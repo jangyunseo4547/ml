{
 "cells": [
  {
   "cell_type": "markdown",
   "id": "b3e28799-eaa9-499b-81da-35f8c7446938",
   "metadata": {},
   "source": [
    "## 결정 트리\n",
    "- 트리 구조 :\n",
    "   "
   ]
  },
  {
   "cell_type": "markdown",
   "id": "be186e33-7c23-4477-b4c7-7140428381e5",
   "metadata": {},
   "source": [
    "### - 'alcohol', 'residual sugar', 'pH'을 기준으로 레드(0), 화이트 와인(1) 이진분류하기"
   ]
  },
  {
   "cell_type": "code",
   "execution_count": 7,
   "id": "1656ef60-c125-45b3-8e5b-2e200eadfb4e",
   "metadata": {},
   "outputs": [
    {
     "data": {
      "text/html": [
       "<div>\n",
       "<style scoped>\n",
       "    .dataframe tbody tr th:only-of-type {\n",
       "        vertical-align: middle;\n",
       "    }\n",
       "\n",
       "    .dataframe tbody tr th {\n",
       "        vertical-align: top;\n",
       "    }\n",
       "\n",
       "    .dataframe thead th {\n",
       "        text-align: right;\n",
       "    }\n",
       "</style>\n",
       "<table border=\"1\" class=\"dataframe\">\n",
       "  <thead>\n",
       "    <tr style=\"text-align: right;\">\n",
       "      <th></th>\n",
       "      <th>fixed acidity</th>\n",
       "      <th>volatile acidity</th>\n",
       "      <th>citric acid</th>\n",
       "      <th>residual sugar</th>\n",
       "      <th>chlorides</th>\n",
       "      <th>free sulfur dioxide</th>\n",
       "      <th>total sulfur dioxide</th>\n",
       "      <th>density</th>\n",
       "      <th>pH</th>\n",
       "      <th>sulphates</th>\n",
       "      <th>alcohol</th>\n",
       "      <th>quality</th>\n",
       "    </tr>\n",
       "  </thead>\n",
       "  <tbody>\n",
       "    <tr>\n",
       "      <th>0</th>\n",
       "      <td>7.4</td>\n",
       "      <td>0.70</td>\n",
       "      <td>0.00</td>\n",
       "      <td>1.9</td>\n",
       "      <td>0.076</td>\n",
       "      <td>11.0</td>\n",
       "      <td>34.0</td>\n",
       "      <td>0.9978</td>\n",
       "      <td>3.51</td>\n",
       "      <td>0.56</td>\n",
       "      <td>9.4</td>\n",
       "      <td>5</td>\n",
       "    </tr>\n",
       "    <tr>\n",
       "      <th>1</th>\n",
       "      <td>7.8</td>\n",
       "      <td>0.88</td>\n",
       "      <td>0.00</td>\n",
       "      <td>2.6</td>\n",
       "      <td>0.098</td>\n",
       "      <td>25.0</td>\n",
       "      <td>67.0</td>\n",
       "      <td>0.9968</td>\n",
       "      <td>3.20</td>\n",
       "      <td>0.68</td>\n",
       "      <td>9.8</td>\n",
       "      <td>5</td>\n",
       "    </tr>\n",
       "    <tr>\n",
       "      <th>2</th>\n",
       "      <td>7.8</td>\n",
       "      <td>0.76</td>\n",
       "      <td>0.04</td>\n",
       "      <td>2.3</td>\n",
       "      <td>0.092</td>\n",
       "      <td>15.0</td>\n",
       "      <td>54.0</td>\n",
       "      <td>0.9970</td>\n",
       "      <td>3.26</td>\n",
       "      <td>0.65</td>\n",
       "      <td>9.8</td>\n",
       "      <td>5</td>\n",
       "    </tr>\n",
       "    <tr>\n",
       "      <th>3</th>\n",
       "      <td>11.2</td>\n",
       "      <td>0.28</td>\n",
       "      <td>0.56</td>\n",
       "      <td>1.9</td>\n",
       "      <td>0.075</td>\n",
       "      <td>17.0</td>\n",
       "      <td>60.0</td>\n",
       "      <td>0.9980</td>\n",
       "      <td>3.16</td>\n",
       "      <td>0.58</td>\n",
       "      <td>9.8</td>\n",
       "      <td>6</td>\n",
       "    </tr>\n",
       "    <tr>\n",
       "      <th>4</th>\n",
       "      <td>7.4</td>\n",
       "      <td>0.70</td>\n",
       "      <td>0.00</td>\n",
       "      <td>1.9</td>\n",
       "      <td>0.076</td>\n",
       "      <td>11.0</td>\n",
       "      <td>34.0</td>\n",
       "      <td>0.9978</td>\n",
       "      <td>3.51</td>\n",
       "      <td>0.56</td>\n",
       "      <td>9.4</td>\n",
       "      <td>5</td>\n",
       "    </tr>\n",
       "  </tbody>\n",
       "</table>\n",
       "</div>"
      ],
      "text/plain": [
       "   fixed acidity  volatile acidity  citric acid  residual sugar  chlorides  \\\n",
       "0            7.4              0.70         0.00             1.9      0.076   \n",
       "1            7.8              0.88         0.00             2.6      0.098   \n",
       "2            7.8              0.76         0.04             2.3      0.092   \n",
       "3           11.2              0.28         0.56             1.9      0.075   \n",
       "4            7.4              0.70         0.00             1.9      0.076   \n",
       "\n",
       "   free sulfur dioxide  total sulfur dioxide  density    pH  sulphates  \\\n",
       "0                 11.0                  34.0   0.9978  3.51       0.56   \n",
       "1                 25.0                  67.0   0.9968  3.20       0.68   \n",
       "2                 15.0                  54.0   0.9970  3.26       0.65   \n",
       "3                 17.0                  60.0   0.9980  3.16       0.58   \n",
       "4                 11.0                  34.0   0.9978  3.51       0.56   \n",
       "\n",
       "   alcohol  quality  \n",
       "0      9.4        5  \n",
       "1      9.8        5  \n",
       "2      9.8        5  \n",
       "3      9.8        6  \n",
       "4      9.4        5  "
      ]
     },
     "execution_count": 7,
     "metadata": {},
     "output_type": "execute_result"
    }
   ],
   "source": [
    "import pandas as pd\n",
    "red_wine = pd.read_csv('data/winequality-red.csv', sep=';')\n",
    "white_wine = pd.read_csv('data/winequality-white.csv', sep=';')\n",
    "\n",
    "red_wine.head()"
   ]
  },
  {
   "cell_type": "code",
   "execution_count": 11,
   "id": "5db5ec6f-110a-40fe-aa30-62b1ad780d90",
   "metadata": {},
   "outputs": [
    {
     "data": {
      "text/html": [
       "<div>\n",
       "<style scoped>\n",
       "    .dataframe tbody tr th:only-of-type {\n",
       "        vertical-align: middle;\n",
       "    }\n",
       "\n",
       "    .dataframe tbody tr th {\n",
       "        vertical-align: top;\n",
       "    }\n",
       "\n",
       "    .dataframe thead th {\n",
       "        text-align: right;\n",
       "    }\n",
       "</style>\n",
       "<table border=\"1\" class=\"dataframe\">\n",
       "  <thead>\n",
       "    <tr style=\"text-align: right;\">\n",
       "      <th></th>\n",
       "      <th>alcohol</th>\n",
       "      <th>sugar</th>\n",
       "      <th>pH</th>\n",
       "      <th>class</th>\n",
       "    </tr>\n",
       "  </thead>\n",
       "  <tbody>\n",
       "    <tr>\n",
       "      <th>0</th>\n",
       "      <td>9.4</td>\n",
       "      <td>1.9</td>\n",
       "      <td>3.51</td>\n",
       "      <td>0</td>\n",
       "    </tr>\n",
       "    <tr>\n",
       "      <th>1</th>\n",
       "      <td>9.8</td>\n",
       "      <td>2.6</td>\n",
       "      <td>3.20</td>\n",
       "      <td>0</td>\n",
       "    </tr>\n",
       "    <tr>\n",
       "      <th>2</th>\n",
       "      <td>9.8</td>\n",
       "      <td>2.3</td>\n",
       "      <td>3.26</td>\n",
       "      <td>0</td>\n",
       "    </tr>\n",
       "    <tr>\n",
       "      <th>3</th>\n",
       "      <td>9.8</td>\n",
       "      <td>1.9</td>\n",
       "      <td>3.16</td>\n",
       "      <td>0</td>\n",
       "    </tr>\n",
       "    <tr>\n",
       "      <th>4</th>\n",
       "      <td>9.4</td>\n",
       "      <td>1.9</td>\n",
       "      <td>3.51</td>\n",
       "      <td>0</td>\n",
       "    </tr>\n",
       "  </tbody>\n",
       "</table>\n",
       "</div>"
      ],
      "text/plain": [
       "   alcohol  sugar    pH  class\n",
       "0      9.4    1.9  3.51      0\n",
       "1      9.8    2.6  3.20      0\n",
       "2      9.8    2.3  3.26      0\n",
       "3      9.8    1.9  3.16      0\n",
       "4      9.4    1.9  3.51      0"
      ]
     },
     "execution_count": 11,
     "metadata": {},
     "output_type": "execute_result"
    }
   ],
   "source": [
    "# 1. red_wine 필요 컬럼만 뽑기\n",
    "\n",
    "red_wine = red_wine[['alcohol', 'residual sugar', 'pH']]\n",
    "red_wine.rename(columns = {'residual sugar': 'sugar'}, inplace = True)\n",
    "red_wine['class'] = 0\n",
    "\n",
    "red_wine.head()"
   ]
  },
  {
   "cell_type": "code",
   "execution_count": 12,
   "id": "8d1bb253-a513-4d06-b9dd-19cd608c7506",
   "metadata": {},
   "outputs": [
    {
     "data": {
      "text/html": [
       "<div>\n",
       "<style scoped>\n",
       "    .dataframe tbody tr th:only-of-type {\n",
       "        vertical-align: middle;\n",
       "    }\n",
       "\n",
       "    .dataframe tbody tr th {\n",
       "        vertical-align: top;\n",
       "    }\n",
       "\n",
       "    .dataframe thead th {\n",
       "        text-align: right;\n",
       "    }\n",
       "</style>\n",
       "<table border=\"1\" class=\"dataframe\">\n",
       "  <thead>\n",
       "    <tr style=\"text-align: right;\">\n",
       "      <th></th>\n",
       "      <th>alcohol</th>\n",
       "      <th>sugar</th>\n",
       "      <th>pH</th>\n",
       "      <th>class</th>\n",
       "    </tr>\n",
       "  </thead>\n",
       "  <tbody>\n",
       "    <tr>\n",
       "      <th>0</th>\n",
       "      <td>8.8</td>\n",
       "      <td>20.7</td>\n",
       "      <td>3.00</td>\n",
       "      <td>1</td>\n",
       "    </tr>\n",
       "    <tr>\n",
       "      <th>1</th>\n",
       "      <td>9.5</td>\n",
       "      <td>1.6</td>\n",
       "      <td>3.30</td>\n",
       "      <td>1</td>\n",
       "    </tr>\n",
       "    <tr>\n",
       "      <th>2</th>\n",
       "      <td>10.1</td>\n",
       "      <td>6.9</td>\n",
       "      <td>3.26</td>\n",
       "      <td>1</td>\n",
       "    </tr>\n",
       "    <tr>\n",
       "      <th>3</th>\n",
       "      <td>9.9</td>\n",
       "      <td>8.5</td>\n",
       "      <td>3.19</td>\n",
       "      <td>1</td>\n",
       "    </tr>\n",
       "    <tr>\n",
       "      <th>4</th>\n",
       "      <td>9.9</td>\n",
       "      <td>8.5</td>\n",
       "      <td>3.19</td>\n",
       "      <td>1</td>\n",
       "    </tr>\n",
       "  </tbody>\n",
       "</table>\n",
       "</div>"
      ],
      "text/plain": [
       "   alcohol  sugar    pH  class\n",
       "0      8.8   20.7  3.00      1\n",
       "1      9.5    1.6  3.30      1\n",
       "2     10.1    6.9  3.26      1\n",
       "3      9.9    8.5  3.19      1\n",
       "4      9.9    8.5  3.19      1"
      ]
     },
     "execution_count": 12,
     "metadata": {},
     "output_type": "execute_result"
    }
   ],
   "source": [
    "# white_wine 필요 컬럼만 뽑기 \n",
    "\n",
    "white_wine = white_wine[['alcohol', 'residual sugar', 'pH']]\n",
    "white_wine.rename(columns = {'residual sugar': 'sugar'}, inplace = True)\n",
    "white_wine['class'] = 1\n",
    "\n",
    "white_wine.head()"
   ]
  },
  {
   "cell_type": "code",
   "execution_count": 15,
   "id": "0e274c57-ac88-4d46-bea2-172b20f2d213",
   "metadata": {},
   "outputs": [
    {
     "name": "stdout",
     "output_type": "stream",
     "text": [
      "<class 'pandas.core.frame.DataFrame'>\n",
      "Index: 6497 entries, 0 to 4897\n",
      "Data columns (total 4 columns):\n",
      " #   Column   Non-Null Count  Dtype  \n",
      "---  ------   --------------  -----  \n",
      " 0   alcohol  6497 non-null   float64\n",
      " 1   sugar    6497 non-null   float64\n",
      " 2   pH       6497 non-null   float64\n",
      " 3   class    6497 non-null   int64  \n",
      "dtypes: float64(3), int64(1)\n",
      "memory usage: 253.8 KB\n"
     ]
    }
   ],
   "source": [
    "# 2. 레드, 화이트 와인 데이터 프레임 합치기 : concat()\n",
    "\n",
    "wine = pd.concat([red_wine, white_wine])\n",
    "wine.info()"
   ]
  },
  {
   "cell_type": "code",
   "execution_count": 17,
   "id": "0e34b876-731e-467c-8c99-885a5953818f",
   "metadata": {},
   "outputs": [],
   "source": [
    "# wine.describe()"
   ]
  },
  {
   "cell_type": "code",
   "execution_count": 18,
   "id": "068d4c1b-92db-4c55-a7c1-9c03b17052de",
   "metadata": {},
   "outputs": [],
   "source": [
    "# 3. 훈련, 채점용 만들기\n",
    "\n",
    "data = wine[['alcohol', 'sugar', 'pH']]\n",
    "target = wine[['class']]"
   ]
  },
  {
   "cell_type": "code",
   "execution_count": 19,
   "id": "9c97793b-4251-433e-af65-0d70709c200f",
   "metadata": {},
   "outputs": [],
   "source": [
    "# 4. 넣고 섞어주기 \n",
    "\n",
    "from sklearn.model_selection import train_test_split\n",
    "\n",
    "train_input, test_input, train_target, test_target = \\\n",
    "train_test_split(data, target)"
   ]
  },
  {
   "cell_type": "code",
   "execution_count": 20,
   "id": "ce1fe875-7363-4f2f-9eaf-c00611ca4572",
   "metadata": {},
   "outputs": [],
   "source": [
    "# 5. 컬럼들 정규화\n",
    "\n",
    "from sklearn.preprocessing import StandardScaler\n",
    "\n",
    "ss = StandardScaler()\n",
    "ss.fit(train_input)\n",
    "\n",
    "train_scaled = ss.transform(train_input)\n",
    "test_scaled = ss.transform(test_input)"
   ]
  },
  {
   "cell_type": "code",
   "execution_count": 21,
   "id": "a4d506d6-454c-4154-b06d-d63efee540bc",
   "metadata": {},
   "outputs": [
    {
     "name": "stdout",
     "output_type": "stream",
     "text": [
      "0.7770935960591133\n",
      "0.792\n"
     ]
    },
    {
     "name": "stderr",
     "output_type": "stream",
     "text": [
      "C:\\Users\\1-17\\Desktop\\DAMF2\\ml\\venv\\Lib\\site-packages\\sklearn\\utils\\validation.py:1408: DataConversionWarning: A column-vector y was passed when a 1d array was expected. Please change the shape of y to (n_samples, ), for example using ravel().\n",
      "  y = column_or_1d(y, warn=True)\n"
     ]
    }
   ],
   "source": [
    "# 6. 로지스틱 함수 (숫자 판단, 분류) ---------> 로지스틱 함수가 적절하지 않음.\n",
    "\n",
    "from sklearn.linear_model import LogisticRegression\n",
    "lr = LogisticRegression()\n",
    "lr.fit(train_scaled, train_target)\n",
    "\n",
    "print(lr.score(train_scaled, train_target))\n",
    "print(lr.score(test_scaled, test_target))"
   ]
  },
  {
   "cell_type": "code",
   "execution_count": 26,
   "id": "ddf52159-51d5-42b1-9cf6-4dd0b15d75ac",
   "metadata": {},
   "outputs": [
    {
     "name": "stdout",
     "output_type": "stream",
     "text": [
      "0.9302134646962233\n",
      "0.8732307692307693\n"
     ]
    }
   ],
   "source": [
    "# 1. 결정 트리 사용 ----> 로지스틱 회귀보다 직관적이고 설명하기 쉬움. (표준화 과정이 필요없음.)\n",
    "\n",
    "from sklearn.tree import DecisionTreeClassifier\n",
    "\n",
    "dt = DecisionTreeClassifier(max_depth=10)               # max_depth : 트리의 깊이(depth)가 깊어질수록 결정트리는 과적합되기 쉬워 예측 성능이 저하\n",
    "dt.fit(train_scaled, train_target)\n",
    "\n",
    "print(dt.score(train_scaled, train_target))\n",
    "print(dt.score(test_scaled, test_target))"
   ]
  },
  {
   "cell_type": "code",
   "execution_count": 27,
   "id": "563c5472-2d62-4d65-aa16-4b550f14bd11",
   "metadata": {},
   "outputs": [
    {
     "data": {
      "image/png": "[encoded data removed]",
      "text/plain": [
       "<Figure size 1000x700 with 1 Axes>"
      ]
     },
     "metadata": {},
     "output_type": "display_data"
    }
   ],
   "source": [
    "import matplotlib.pyplot as plt\n",
    "\n",
    "from sklearn.tree import plot_tree\n",
    "\n",
    "plt.figure(figsize = (10,7))\n",
    "plot_tree(dt, max_depth =1, filled = True)             # max_depth =1 : 앞부분에 있는 결정 트리만 보여줌.\n",
    "plt.show()"
   ]
  },
  {
   "cell_type": "markdown",
   "id": "c726ccb4-2cd0-4e3d-95a3-4d5bbe690460",
   "metadata": {},
   "source": [
    "### 지니 불순도 (gini)\n",
    "- 순수노드 : 0에 가까움 -> 편향되게 데이터를 나눌 수록 잘 나눔\n"
   ]
  },
  {
   "cell_type": "code",
   "execution_count": null,
   "id": "5736dc6f-d787-4f3e-8fd3-3cf5c3a32e37",
   "metadata": {},
   "outputs": [],
   "source": []
  }
 ],
 "metadata": {
  "kernelspec": {
   "display_name": "Python 3 (ipykernel)",
   "language": "python",
   "name": "python3"
  },
  "language_info": {
   "codemirror_mode": {
    "name": "ipython",
    "version": 3
   },
   "file_extension": ".py",
   "mimetype": "text/x-python",
   "name": "python",
   "nbconvert_exporter": "python",
   "pygments_lexer": "ipython3",
   "version": "3.13.2"
  }
 },
 "nbformat": 4,
 "nbformat_minor": 5
}
