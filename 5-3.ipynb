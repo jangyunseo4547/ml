{
 "cells": [
  {
   "cell_type": "markdown",
   "id": "4cfefb5b-76d9-46ce-9615-ebcbd16349e5",
   "metadata": {},
   "source": [
    "# 앙상블 학습 알고리즘"
   ]
  },
  {
   "cell_type": "markdown",
   "id": "9f50a9a7-64ea-4e96-b7ab-3962d67f2c00",
   "metadata": {},
   "source": [
    "## 01. 랜덤 포레스트\n",
    "- 결정트리를 랜덤하게 만들어 숲을 만듦\n",
    "\n",
    "- 방법 : `from sklearn.ensemble import RandomForestClassifier`\n",
    "```\n",
    "부트스트랩 샘플 (랜덤하게 샘플을 뽑음. 한 샘플이 중복되어 추출될 수 있음.)   <--> 확률적 경사 하강법(모든 샘플이 소진될때까지 뽑음.)\n",
    "특성 개수의 제곱근만큼의 특성 선택\n",
    "```\n",
    "    - 정형 데이터 : 표 형태 안에 숫자 데이터 ex) 엑셀, 데이터 베이스에 저장된 대부분의 데이터             --> `앙상블 학습 알고리즘` 활용 : 결정트리 기반\n",
    "    - 비정형 데이터 : 사진, 텍스트 데이터, 음악      --> `트랜스 포머`"
   ]
  },
  {
   "cell_type": "code",
   "execution_count": 2,
   "id": "d23ee725-e3fc-4f32-9afb-a743a396b78b",
   "metadata": {},
   "outputs": [],
   "source": [
    "import pandas as pd\n",
    "df = pd.read_csv('http://bit.ly/wine_csv_data')\n",
    "data = df[['alcohol', 'sugar', 'pH']]             \n",
    "target = df[['class']]"
   ]
  },
  {
   "cell_type": "code",
   "execution_count": 3,
   "id": "5391d513-7849-4173-ad00-040efab3cc1f",
   "metadata": {},
   "outputs": [],
   "source": [
    "from sklearn.model_selection import train_test_split\n",
    "\n",
    "train_input, test_input, train_target, test_target = \\\n",
    "train_test_split(data, target)"
   ]
  },
  {
   "cell_type": "code",
   "execution_count": 5,
   "id": "8f9c9edc-8b41-4efc-aa5c-139f34314090",
   "metadata": {},
   "outputs": [
    {
     "name": "stdout",
     "output_type": "stream",
     "text": [
      "{'fit_time': array([0.28034997, 0.28043723, 0.27955985, 0.23342299, 0.23086047]), 'score_time': array([0.0325489 , 0.03036594, 0.0313518 , 0.02936363, 0.03011775]), 'test_score': array([0.89948718, 0.90564103, 0.89117043, 0.89835729, 0.88398357]), 'train_score': array([0.99923018, 0.99897357, 0.99897383, 0.99923037, 0.99897383])}\n"
     ]
    }
   ],
   "source": [
    "from sklearn.model_selection import cross_validate     # 교차검증\n",
    "from sklearn.ensemble import RandomForestClassifier    # 랜덤 포레스트\n",
    "\n",
    "rf = RandomForestClassifier(n_jobs = -1)               # 기본적으로 100개의 결정트리 사용 -> n_jobs = -1로 모든 코어 사용\n",
    "scores = cross_validate(rf, train_input, train_target, return_train_score = True, n_jobs = -1)          \n",
    "\n",
    "# 교차검증에서의 n_jobs = -1 : 병렬로 교차검증 수행  / return_train_score = 훈련세트에 대한 점수도 같이 반환 (과대적합 파악 용이) \n",
    "\n",
    "print(scores)"
   ]
  },
  {
   "cell_type": "code",
   "execution_count": 7,
   "id": "6658ad00-2ae4-490e-ab5a-3ab0e1ad6e43",
   "metadata": {},
   "outputs": [
    {
     "name": "stderr",
     "output_type": "stream",
     "text": [
      "C:\\Users\\1-17\\Desktop\\DAMF2\\ml\\venv\\Lib\\site-packages\\sklearn\\base.py:1389: DataConversionWarning: A column-vector y was passed when a 1d array was expected. Please change the shape of y to (n_samples,), for example using ravel().\n",
      "  return fit_method(estimator, *args, **kwargs)\n"
     ]
    },
    {
     "data": {
      "text/plain": [
       "array([0.23534942, 0.49796682, 0.26668376])"
      ]
     },
     "execution_count": 7,
     "metadata": {},
     "output_type": "execute_result"
    }
   ],
   "source": [
    "rf.fit(train_input, train_target)\n",
    "rf.feature_importances_                 # feature_importances_ : 특성에 대한 중요도"
   ]
  },
  {
   "cell_type": "code",
   "execution_count": 8,
   "id": "77a87588-a4a0-41cd-8ef5-ad1e20e11c0d",
   "metadata": {},
   "outputs": [
    {
     "name": "stderr",
     "output_type": "stream",
     "text": [
      "C:\\Users\\1-17\\Desktop\\DAMF2\\ml\\venv\\Lib\\site-packages\\sklearn\\base.py:1389: DataConversionWarning: A column-vector y was passed when a 1d array was expected. Please change the shape of y to (n_samples,), for example using ravel().\n",
      "  return fit_method(estimator, *args, **kwargs)\n"
     ]
    },
    {
     "data": {
      "text/plain": [
       "0.895935960591133"
      ]
     },
     "execution_count": 8,
     "metadata": {},
     "output_type": "execute_result"
    }
   ],
   "source": [
    "# oob : 부트스트랩 샘플링 시 선택되지 않은 샘플 (oob_score를 true로 하면 훈련 종료 후 oob 샘플을 기반으로 평가를 수행) : 검증세트의 역할 !\n",
    "\n",
    "rf = RandomForestClassifier(oob_score = True, n_jobs = -1)\n",
    "rf.fit(train_input, train_target)\n",
    "rf.oob_score_                            "
   ]
  },
  {
   "cell_type": "markdown",
   "id": "c2cd8aab-08a1-4996-8ae5-5a29ca60b487",
   "metadata": {},
   "source": [
    "## 02. 엑스트라 트리\n",
    "`from sklearn.ensemble import ExtraTreesClassifier`\n",
    "- 랜덤 포레스트와 유사/ but, 속도가 빠름 (랜덤하게 노드 분할)"
   ]
  },
  {
   "cell_type": "code",
   "execution_count": 9,
   "id": "4898ea5d-8553-4d94-8f93-c600850110f3",
   "metadata": {},
   "outputs": [
    {
     "name": "stdout",
     "output_type": "stream",
     "text": [
      "{'fit_time': array([0.18913865, 0.23476028, 0.19743085, 0.23226357, 0.25328422]), 'score_time': array([0.08549452, 0.04127955, 0.06786513, 0.05511403, 0.03542686]), 'test_score': array([0.89846154, 0.90461538, 0.88193018, 0.8963039 , 0.87474333]), 'train_score': array([0.99923018, 0.99897357, 0.99897383, 0.99923037, 0.99897383])}\n"
     ]
    }
   ],
   "source": [
    "from sklearn.ensemble import ExtraTreesClassifier\n",
    "et = ExtraTreesClassifier(n_jobs = -1)\n",
    "\n",
    "scores = cross_validate(et, train_input, train_target, return_train_score = True, n_jobs = -1)\n",
    "\n",
    "print(scores)"
   ]
  },
  {
   "cell_type": "markdown",
   "id": "809cd3df-79e8-4f5b-a31b-98dbcefee32b",
   "metadata": {},
   "source": [
    "## 03. 그레이디언트 부스팅\n",
    "- 깊이가 얕은 결정트리 사용(결정트리를 추가하여 낮은 곳으로 이동)하여 이전 트리의 오차 보완\n",
    "    결정 트리의 개수를 늘려도 --> 과대적합에 강함, 높은 일반화 성능 !\n",
    "- `from sklearn.ensemble import GradientBoostingClassifier`"
   ]
  },
  {
   "cell_type": "code",
   "execution_count": 11,
   "id": "45224c92-5723-4814-8924-2d1d9b719e70",
   "metadata": {},
   "outputs": [
    {
     "name": "stdout",
     "output_type": "stream",
     "text": [
      "{'fit_time': array([0.21275377, 0.24724197, 0.23041844, 0.18957758, 0.18705463]), 'score_time': array([0.0322392 , 0.0332036 , 0.03011274, 0.03048968, 0.03049183]), 'test_score': array([0.9025641 , 0.89435897, 0.88706366, 0.89835729, 0.87063655]), 'train_score': array([0.99923018, 0.99897357, 0.99897383, 0.99923037, 0.99897383])}\n"
     ]
    }
   ],
   "source": [
    "from sklearn.ensemble import GradientBoostingClassifier\n",
    "gb = GradientBoostingClassifier(n_estimators=500)             # 결정 트리의 나무 갯수 : 500으로 지정 (결정트리 갯수 늘려도 과대적합 강함.)\n",
    "\n",
    "scores = cross_validate(et, train_input, train_target, return_train_score = True, n_jobs = -1)\n",
    "\n",
    "print(scores)"
   ]
  },
  {
   "cell_type": "markdown",
   "id": "acf6c750-0c54-4d9a-b57b-69862d602ec1",
   "metadata": {},
   "source": [
    "## 04. 히스토그램 기반 그레이디언트 부스팅\n",
    "- `from sklearn.ensemble import HistGradientBoostingClassifier` : 그레이디언트 부스팅의 속도 개선\n",
    "- 특성 중요도 : `from sklearn.inspection import permutation_importance`\n",
    "    - 특성을 랜덤하게 섞은 이후에도 성능의 변화가 크지 않으면, 특성의 중요도가 낮은것 !"
   ]
  },
  {
   "cell_type": "code",
   "execution_count": 12,
   "id": "7a21e8eb-f7a6-4659-aa50-5c0e4d2de89f",
   "metadata": {},
   "outputs": [
    {
     "name": "stdout",
     "output_type": "stream",
     "text": [
      "{'fit_time': array([0.21829057, 0.21684551, 0.26321077, 0.35464883, 0.26942444]), 'score_time': array([0.06974816, 0.09173393, 0.04579639, 0.03565121, 0.05961871]), 'test_score': array([0.89333333, 0.90461538, 0.87679671, 0.89938398, 0.87268994]), 'train_score': array([0.99923018, 0.99897357, 0.99897383, 0.99923037, 0.99897383])}\n"
     ]
    }
   ],
   "source": [
    "from sklearn.ensemble import HistGradientBoostingClassifier\n",
    "hgb = HistGradientBoostingClassifier()\n",
    "\n",
    "scores = cross_validate(et, train_input, train_target, return_train_score = True, n_jobs = -1)\n",
    "\n",
    "print(scores)"
   ]
  },
  {
   "cell_type": "markdown",
   "id": "ae786757-c2b9-4b17-af53-ba7af4f80926",
   "metadata": {},
   "source": [
    "#### # 히스토그램 기반 그레이디언트 특성 중요도 : 특성을 랜덤하게 섞은뒤 모델의 성능이 변화하는지 확인 "
   ]
  },
  {
   "cell_type": "code",
   "execution_count": 18,
   "id": "094a3a77-2f55-40d5-b467-30d1b45062ed",
   "metadata": {},
   "outputs": [
    {
     "name": "stderr",
     "output_type": "stream",
     "text": [
      "C:\\Users\\1-17\\Desktop\\DAMF2\\ml\\venv\\Lib\\site-packages\\sklearn\\utils\\validation.py:1408: DataConversionWarning: A column-vector y was passed when a 1d array was expected. Please change the shape of y to (n_samples, ), for example using ravel().\n",
      "  y = column_or_1d(y, warn=True)\n"
     ]
    },
    {
     "name": "stdout",
     "output_type": "stream",
     "text": [
      "[0.09351396 0.24064039 0.08509852]\n"
     ]
    }
   ],
   "source": [
    "from sklearn.inspection import permutation_importance\n",
    "\n",
    "hgb.fit(train_input, train_target)\n",
    "scores = permutation_importance(hgb, train_input, train_target)\n",
    "\n",
    "print(scores.importances_mean)\n",
    "\n",
    "\n",
    "# 결과 해석 : 랜덤 포레스트와 비교하여 랜덤하게 섞었는데도 알코올, hp는 큰 변화가 없는것으로 보아 특성의 중요도 낮음."
   ]
  }
 ],
 "metadata": {
  "kernelspec": {
   "display_name": "Python 3 (ipykernel)",
   "language": "python",
   "name": "python3"
  },
  "language_info": {
   "codemirror_mode": {
    "name": "ipython",
    "version": 3
   },
   "file_extension": ".py",
   "mimetype": "text/x-python",
   "name": "python",
   "nbconvert_exporter": "python",
   "pygments_lexer": "ipython3",
   "version": "3.13.2"
  }
 },
 "nbformat": 4,
 "nbformat_minor": 5
}
