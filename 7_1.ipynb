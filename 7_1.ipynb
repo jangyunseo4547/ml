{
  "nbformat": 4,
  "nbformat_minor": 0,
  "metadata": {
    "colab": {
      "provenance": []
    },
    "kernelspec": {
      "name": "python3",
      "display_name": "Python 3"
    },
    "language_info": {
      "name": "python"
    }
  },
  "cells": [
    {
      "cell_type": "markdown",
      "source": [
        "7-1 인공신경망\n",
        "-"
      ],
      "metadata": {
        "id": "m2-Ik5kYjRq1"
      }
    },
    {
      "cell_type": "code",
      "execution_count": 1,
      "metadata": {
        "id": "OHeVfwZgi0io"
      },
      "outputs": [],
      "source": [
        "from tensorflow import keras"
      ]
    },
    {
      "cell_type": "code",
      "source": [
        "# 튜플로 묶여 있기 때문에 train, test도 튜플로 묶어줌\n",
        "\n",
        "(train_input, train_target),(test_input, test_target) = keras.datasets.fashion_mnist.load_data()"
      ],
      "metadata": {
        "id": "8w72iCqMjdgw"
      },
      "execution_count": 3,
      "outputs": []
    },
    {
      "cell_type": "code",
      "source": [
        "train_input.shape"
      ],
      "metadata": {
        "colab": {
          "base_uri": "https://localhost:8080/"
        },
        "id": "Haa_nfs1jzhW",
        "outputId": "1d7858d9-4f32-4b1b-a630-1f6f45eb65d2"
      },
      "execution_count": 4,
      "outputs": [
        {
          "output_type": "execute_result",
          "data": {
            "text/plain": [
              "(60000, 28, 28)"
            ]
          },
          "metadata": {},
          "execution_count": 4
        }
      ]
    },
    {
      "cell_type": "code",
      "source": [
        "test_input.shape"
      ],
      "metadata": {
        "colab": {
          "base_uri": "https://localhost:8080/"
        },
        "id": "capOvTwpkUKQ",
        "outputId": "30481034-9a1d-4a8b-ca19-94960bcf6556"
      },
      "execution_count": 5,
      "outputs": [
        {
          "output_type": "execute_result",
          "data": {
            "text/plain": [
              "(10000, 28, 28)"
            ]
          },
          "metadata": {},
          "execution_count": 5
        }
      ]
    },
    {
      "cell_type": "code",
      "source": [
        "import matplotlib.pyplot as plt\n",
        "plt.imshow(train_input[2], cmap = 'gray_r')          # 0 (검정), 1 (흰)"
      ],
      "metadata": {
        "colab": {
          "base_uri": "https://localhost:8080/",
          "height": 448
        },
        "id": "5kKrtds7kXjG",
        "outputId": "b4c09038-d2bc-4112-83f1-a3d08d4f8d3b"
      },
      "execution_count": 22,
      "outputs": [
        {
          "output_type": "execute_result",
          "data": {
            "text/plain": [
              "<matplotlib.image.AxesImage at 0x7f55499e1390>"
            ]
          },
          "metadata": {},
          "execution_count": 22
        },
        {
          "output_type": "display_data",
          "data": {
            "text/plain": [
              "<Figure size 640x480 with 1 Axes>"
            ],
            "image/png": "[encoded data removed]"
          },
          "metadata": {}
        }
      ]
    },
    {
      "cell_type": "code",
      "source": [
        "import matplotlib.pyplot as plt\n",
        "fig, axs = plt.subplots(1,10, figsize = (10,10))\n",
        "\n",
        "for i in range(10):\n",
        "  axs[i]"
      ],
      "metadata": {
        "id": "uNQjgDChp4dZ"
      },
      "execution_count": null,
      "outputs": []
    },
    {
      "cell_type": "code",
      "source": [
        "### 1. 로지스틱 회귀"
      ],
      "metadata": {
        "id": "ctXj6DGbk9xr"
      },
      "execution_count": 11,
      "outputs": []
    },
    {
      "cell_type": "code",
      "source": [
        "train_scaled = train_input / 255.0\n",
        "train_scaled = train_scaled.reshape(-1, 28*28)  # (60000, 28, 28) 60000 = -1 / 2차원 샘플을 1차원으로 합침 (SGD는 2차원 입력을 다루지 못함.)"
      ],
      "metadata": {
        "id": "1KUphQEomuKc"
      },
      "execution_count": 18,
      "outputs": []
    },
    {
      "cell_type": "code",
      "source": [
        "from sklearn.model_selection import cross_validate\n",
        "from sklearn.linear_model import SGDClassifier\n",
        "\n",
        "sc = SGDClassifier(loss = 'log_loss', max_iter = 5)\n",
        "scores = cross_validate(sc, train_scaled, train_target, n_jobs = -1)\n",
        "print(scores)"
      ],
      "metadata": {
        "colab": {
          "base_uri": "https://localhost:8080/"
        },
        "id": "Uw1SrX9znmIi",
        "outputId": "ddcad4b7-4c85-4bc2-a822-0e395320b8fa"
      },
      "execution_count": 20,
      "outputs": [
        {
          "output_type": "stream",
          "name": "stdout",
          "text": [
            "{'fit_time': array([10.6392839 , 11.19727159, 11.93681526, 11.42989969,  8.0660603 ]), 'score_time': array([0.04939556, 0.05745959, 0.04356217, 0.04663301, 0.03231883]), 'test_score': array([0.821     , 0.78741667, 0.83516667, 0.8155    , 0.799     ])}\n"
          ]
        }
      ]
    },
    {
      "cell_type": "code",
      "source": [
        "### 7-1 인공신경망\n",
        "# - 확률적 경사 하강법의 로지스틱 회귀와 유사 (SGDClassifier)\n",
        "# - 정확도가 더 높음.\n",
        "# 층 -> 모델 -> 손실함수 지정 / 학습 ,평가"
      ],
      "metadata": {
        "id": "UhTQDv3aoERY"
      },
      "execution_count": 21,
      "outputs": []
    },
    {
      "cell_type": "code",
      "source": [
        "import tensorflow as tf # keras : 텐서플로우의 고수준 api"
      ],
      "metadata": {
        "id": "q7MR5cA4o6QK"
      },
      "execution_count": 23,
      "outputs": []
    },
    {
      "cell_type": "code",
      "source": [
        "# 1. 훈련 세트, 검증 세트로 나누기 (80/20)\n",
        "\n",
        "from sklearn.model_selection import train_test_split\n",
        "train_scaled, val_scaled, train_target, val_target = train_test_split(train_scaled, train_target, test_size = 0.2, random_state = 42)"
      ],
      "metadata": {
        "id": "hBnv_D89syZM"
      },
      "execution_count": 24,
      "outputs": []
    },
    {
      "cell_type": "code",
      "source": [
        "print(train_scaled.shape, train_target.shape)"
      ],
      "metadata": {
        "colab": {
          "base_uri": "https://localhost:8080/"
        },
        "id": "S6vLTgrdtXiL",
        "outputId": "cc8458d1-3718-4f68-fd53-3ec8521a81f7"
      },
      "execution_count": 25,
      "outputs": [
        {
          "output_type": "stream",
          "name": "stdout",
          "text": [
            "(48000, 784) (48000,)\n"
          ]
        }
      ]
    },
    {
      "cell_type": "code",
      "source": [
        "# 2. 신경망 생성\n",
        "\n",
        "dense = keras.layers.Dense(10, activation = 'softmax', input_shape=(784,))\n",
        "# 10개의 분류 / 활성화 함수 : sigmoid or softmax(다중분류)/ input_shape : 내가 가진 데이터의 크기 (28*28)"
      ],
      "metadata": {
        "colab": {
          "base_uri": "https://localhost:8080/"
        },
        "id": "X6jvS3zNtlC2",
        "outputId": "938cf274-568a-4465-daf4-0341233ef939"
      },
      "execution_count": 26,
      "outputs": [
        {
          "output_type": "stream",
          "name": "stderr",
          "text": [
            "/usr/local/lib/python3.11/dist-packages/keras/src/layers/core/dense.py:87: UserWarning: Do not pass an `input_shape`/`input_dim` argument to a layer. When using Sequential models, prefer using an `Input(shape)` object as the first layer in the model instead.\n",
            "  super().__init__(activity_regularizer=activity_regularizer, **kwargs)\n"
          ]
        }
      ]
    },
    {
      "cell_type": "code",
      "source": [
        "# 3. 신경망 dense를 전달한 모델을 만듦.\n",
        "\n",
        "model = keras.Sequential([dense])"
      ],
      "metadata": {
        "id": "sl5OMjxqubWy"
      },
      "execution_count": 27,
      "outputs": []
    },
    {
      "cell_type": "code",
      "source": [
        "# 4. compile로 손실함수 정의\n",
        "\n",
        "model.compile(loss = 'sparse_categorical_crossentropy', metrics= ['accuracy'])\n",
        "# 손실함수 지정(이진분류시 binery_crossentropy)/ metrics = 학습 방향 지정 (정확성 높은 방식)"
      ],
      "metadata": {
        "id": "H3K5Aa2pvKbK"
      },
      "execution_count": 28,
      "outputs": []
    },
    {
      "cell_type": "code",
      "source": [
        "# 5. 학습\n",
        "\n",
        "model.fit(train_scaled, train_target,epochs = 5)"
      ],
      "metadata": {
        "colab": {
          "base_uri": "https://localhost:8080/"
        },
        "id": "fiRtbLHEv_yB",
        "outputId": "da5e94db-92eb-41a6-8f8c-f99e57b6a4cf"
      },
      "execution_count": 29,
      "outputs": [
        {
          "output_type": "stream",
          "name": "stdout",
          "text": [
            "Epoch 1/5\n",
            "\u001b[1m1500/1500\u001b[0m \u001b[32m━━━━━━━━━━━━━━━━━━━━\u001b[0m\u001b[37m\u001b[0m \u001b[1m3s\u001b[0m 2ms/step - accuracy: 0.7364 - loss: 0.7762\n",
            "Epoch 2/5\n",
            "\u001b[1m1500/1500\u001b[0m \u001b[32m━━━━━━━━━━━━━━━━━━━━\u001b[0m\u001b[37m\u001b[0m \u001b[1m5s\u001b[0m 2ms/step - accuracy: 0.8346 - loss: 0.4864\n",
            "Epoch 3/5\n",
            "\u001b[1m1500/1500\u001b[0m \u001b[32m━━━━━━━━━━━━━━━━━━━━\u001b[0m\u001b[37m\u001b[0m \u001b[1m4s\u001b[0m 2ms/step - accuracy: 0.8472 - loss: 0.4528\n",
            "Epoch 4/5\n",
            "\u001b[1m1500/1500\u001b[0m \u001b[32m━━━━━━━━━━━━━━━━━━━━\u001b[0m\u001b[37m\u001b[0m \u001b[1m4s\u001b[0m 2ms/step - accuracy: 0.8518 - loss: 0.4346\n",
            "Epoch 5/5\n",
            "\u001b[1m1500/1500\u001b[0m \u001b[32m━━━━━━━━━━━━━━━━━━━━\u001b[0m\u001b[37m\u001b[0m \u001b[1m5s\u001b[0m 2ms/step - accuracy: 0.8561 - loss: 0.4270\n"
          ]
        },
        {
          "output_type": "execute_result",
          "data": {
            "text/plain": [
              "<keras.src.callbacks.history.History at 0x7f556191aed0>"
            ]
          },
          "metadata": {},
          "execution_count": 29
        }
      ]
    },
    {
      "cell_type": "code",
      "source": [
        "# 6. 평가\n",
        "\n",
        "model.evaluate(val_scaled, val_target)"
      ],
      "metadata": {
        "colab": {
          "base_uri": "https://localhost:8080/"
        },
        "id": "W1Mga3M_wmZn",
        "outputId": "f91aa440-2cbb-4157-d557-59d52a03b426"
      },
      "execution_count": 30,
      "outputs": [
        {
          "output_type": "stream",
          "name": "stdout",
          "text": [
            "\u001b[1m375/375\u001b[0m \u001b[32m━━━━━━━━━━━━━━━━━━━━\u001b[0m\u001b[37m\u001b[0m \u001b[1m1s\u001b[0m 2ms/step - accuracy: 0.8468 - loss: 0.4420\n"
          ]
        },
        {
          "output_type": "execute_result",
          "data": {
            "text/plain": [
              "[0.4499572813510895, 0.846666693687439]"
            ]
          },
          "metadata": {},
          "execution_count": 30
        }
      ]
    },
    {
      "cell_type": "code",
      "source": [],
      "metadata": {
        "id": "EEOn8ysjw7CX"
      },
      "execution_count": null,
      "outputs": []
    }
  ]
}